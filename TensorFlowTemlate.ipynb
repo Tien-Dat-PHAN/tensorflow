{
  "nbformat": 4,
  "nbformat_minor": 0,
  "metadata": {
    "colab": {
      "provenance": [],
      "gpuType": "T4"
    },
    "kernelspec": {
      "name": "python3",
      "display_name": "Python 3"
    },
    "language_info": {
      "name": "python"
    },
    "accelerator": "GPU"
  },
  "cells": [
    {
      "cell_type": "code",
      "execution_count": 1,
      "metadata": {
        "colab": {
          "base_uri": "https://localhost:8080/"
        },
        "id": "pc2_h4N_dVUH",
        "outputId": "b2fa377e-fe36-4508-cd5c-93306c57cea0"
      },
      "outputs": [
        {
          "output_type": "stream",
          "name": "stdout",
          "text": [
            "2.12.0\n"
          ]
        }
      ],
      "source": [
        "\n",
        "import tensorflow as tf\n",
        "print(tf.__version__)\n"
      ]
    },
    {
      "cell_type": "code",
      "source": [
        "# load dataset\n",
        "mnist = tf.keras.datasets.mnist\n",
        "(x_train, y_train), (x_test, y_test) = mnist.load_data()\n",
        "x_train = x_train/255.0\n",
        "x_test = x_test/255.0\n"
      ],
      "metadata": {
        "colab": {
          "base_uri": "https://localhost:8080/"
        },
        "id": "DezLCls8gQqu",
        "outputId": "0d12599b-c96c-4bdd-efdd-5df75c0380dd"
      },
      "execution_count": 2,
      "outputs": [
        {
          "output_type": "stream",
          "name": "stdout",
          "text": [
            "Downloading data from https://storage.googleapis.com/tensorflow/tf-keras-datasets/mnist.npz\n",
            "11490434/11490434 [==============================] - 2s 0us/step\n"
          ]
        }
      ]
    },
    {
      "cell_type": "code",
      "source": [
        "# build a machine learning model\n",
        "model = tf.keras.models.Sequential([\n",
        "    tf.keras.layers.Flatten(input_shape = (28,28)),\n",
        "    tf.keras.layers.Dense(128,activation = 'relu'),\n",
        "    tf.keras.layers.Dropout(0.2),\n",
        "    tf.keras.layers.Dense(10)\n",
        "])\n",
        "# Sequential: is useful for stacking layers where each layer has one input tensos and one output tensor\n",
        "# Flatten, Dense, Dropout layers\n"
      ],
      "metadata": {
        "id": "s4gLJd0pg8rh"
      },
      "execution_count": 3,
      "outputs": []
    },
    {
      "cell_type": "code",
      "source": [
        "# for example, the model returns a vector of logits or log-odds scores, one for each class\n",
        "import numpy as np\n",
        "predictions = model(x_train[:1]).numpy()\n",
        "predictions"
      ],
      "metadata": {
        "colab": {
          "base_uri": "https://localhost:8080/"
        },
        "id": "5SohoVFaiKQQ",
        "outputId": "f12c5c3e-258b-43ab-85e0-aeceba0b9fef"
      },
      "execution_count": 6,
      "outputs": [
        {
          "output_type": "execute_result",
          "data": {
            "text/plain": [
              "array([[-0.22213498,  0.09326604,  0.97866386,  1.0177459 , -0.20374681,\n",
              "        -0.19017819, -0.52295935,  0.16741845,  0.90927225, -0.18595552]],\n",
              "      dtype=float32)"
            ]
          },
          "metadata": {},
          "execution_count": 6
        }
      ]
    },
    {
      "cell_type": "code",
      "source": [
        "# the tf.nn.softmax function converts these logits to probability for each class\n",
        "tf.nn.softmax(predictions).numpy()"
      ],
      "metadata": {
        "colab": {
          "base_uri": "https://localhost:8080/"
        },
        "id": "uldXfpj9ifcw",
        "outputId": "f4ca9091-0288-4a50-e55c-d93c0a1b4b6f"
      },
      "execution_count": 7,
      "outputs": [
        {
          "output_type": "execute_result",
          "data": {
            "text/plain": [
              "array([[0.05696968, 0.07809454, 0.18929714, 0.19684172, 0.05802693,\n",
              "        0.05881964, 0.0421694 , 0.08410555, 0.1766069 , 0.05906854]],\n",
              "      dtype=float32)"
            ]
          },
          "metadata": {},
          "execution_count": 7
        }
      ]
    },
    {
      "cell_type": "code",
      "source": [
        "# define a loss function for training using\n",
        "loss_fn = tf.keras.losses.SparseCategoricalCrossentropy(from_logits=True)\n",
        "#This loss is equal to the negative log probability of the true class:\n",
        "# the loss is zero if the model is sure of the correct class\n",
        "# this untrained model gives probabilities close to random (1/10 for each class)\n",
        "#so the initial loss should be close `-tf.math.log(1/10)~=2.3`\n",
        "loss_fn(y_train[:1], predictions).numpy()"
      ],
      "metadata": {
        "colab": {
          "base_uri": "https://localhost:8080/"
        },
        "id": "5EtWofBEi8Hx",
        "outputId": "e9463b89-c017-4a86-87fb-1955a02641bd"
      },
      "execution_count": 8,
      "outputs": [
        {
          "output_type": "execute_result",
          "data": {
            "text/plain": [
              "2.8332794"
            ]
          },
          "metadata": {},
          "execution_count": 8
        }
      ]
    },
    {
      "cell_type": "code",
      "source": [
        "# configure and compile the model using Model.complile. Set the optimizer clas\n",
        "# to adam, the loss to the loss-fn and specify a metric to be evaluated\n",
        "# for the model by setting th metrics parameter to accuracy\n",
        "\n",
        "model.compile(optimizer='adam',\n",
        "              loss= loss_fn,\n",
        "              metrics=['accuracy'])"
      ],
      "metadata": {
        "id": "2sXQAO9KkNTe"
      },
      "execution_count": 9,
      "outputs": []
    },
    {
      "cell_type": "code",
      "source": [
        "# train and evaluate our model\n",
        "\n",
        "model.fit(x_train, y_train, epochs = 5)"
      ],
      "metadata": {
        "colab": {
          "base_uri": "https://localhost:8080/"
        },
        "id": "rKzxl7njk74Y",
        "outputId": "3a727f73-bd58-4b7a-b61a-0e9115a8a570"
      },
      "execution_count": 10,
      "outputs": [
        {
          "output_type": "stream",
          "name": "stdout",
          "text": [
            "Epoch 1/5\n",
            "1875/1875 [==============================] - 8s 3ms/step - loss: 0.2986 - accuracy: 0.9143\n",
            "Epoch 2/5\n",
            "1875/1875 [==============================] - 5s 2ms/step - loss: 0.1440 - accuracy: 0.9570\n",
            "Epoch 3/5\n",
            "1875/1875 [==============================] - 5s 3ms/step - loss: 0.1072 - accuracy: 0.9673\n",
            "Epoch 4/5\n",
            "1875/1875 [==============================] - 5s 2ms/step - loss: 0.0877 - accuracy: 0.9727\n",
            "Epoch 5/5\n",
            "1875/1875 [==============================] - 5s 3ms/step - loss: 0.0738 - accuracy: 0.9771\n"
          ]
        },
        {
          "output_type": "execute_result",
          "data": {
            "text/plain": [
              "<keras.callbacks.History at 0x7c6bcb929a80>"
            ]
          },
          "metadata": {},
          "execution_count": 10
        }
      ]
    },
    {
      "cell_type": "code",
      "source": [
        "# The model.evaluate method checks the model's performance\n",
        "model.evaluate(x_test, y_test, verbose = 2)"
      ],
      "metadata": {
        "colab": {
          "base_uri": "https://localhost:8080/"
        },
        "id": "TTzyQoSMlGo2",
        "outputId": "a029f798-ccf0-45d4-f4b0-80662c1e7b4f"
      },
      "execution_count": 11,
      "outputs": [
        {
          "output_type": "stream",
          "name": "stdout",
          "text": [
            "313/313 - 1s - loss: 0.0677 - accuracy: 0.9794 - 997ms/epoch - 3ms/step\n"
          ]
        },
        {
          "output_type": "execute_result",
          "data": {
            "text/plain": [
              "[0.06770147383213043, 0.9793999791145325]"
            ]
          },
          "metadata": {},
          "execution_count": 11
        }
      ]
    },
    {
      "cell_type": "markdown",
      "source": [
        "This image classifier is now trained to 98% accuracy on this dataset. You have a trained a machine learning model using a prebulit dataset using the Keras API\n"
      ],
      "metadata": {
        "id": "ljYh0ddtlhbI"
      }
    },
    {
      "cell_type": "code",
      "source": [],
      "metadata": {
        "id": "MKikFkwllcr1"
      },
      "execution_count": null,
      "outputs": []
    }
  ]
}